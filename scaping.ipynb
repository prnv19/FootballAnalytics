{
 "cells": [
  {
   "cell_type": "code",
   "execution_count": 3,
   "metadata": {},
   "outputs": [],
   "source": [
    "import pandas as pd\n",
    "\n",
    "import tqdm\n",
    "from player import GetPlayerStats\n",
    "import csv\n"
   ]
  },
  {
   "cell_type": "code",
   "execution_count": null,
   "metadata": {},
   "outputs": [],
   "source": [
    "links = pd.read_csv('Data/player_links.csv')\n",
    "links = links['ID'].tolist()\n",
    "len(links)"
   ]
  },
  {
   "cell_type": "code",
   "execution_count": null,
   "metadata": {},
   "outputs": [],
   "source": [
    "import concurrent.futures\n",
    "\n",
    "def process_link(link):\n",
    "    player_stats = GetPlayerStats(link)\n",
    "    if player_stats is not None:\n",
    "        row = [player_stats[key] for key in player_stats]\n",
    "        return row\n",
    "    return None\n",
    "\n",
    "# Open the CSV file in append mode\n",
    "with open('Data/player_stats.csv', mode='a', newline='') as file:\n",
    "    writer = csv.writer(file)\n",
    "    # Write the header row\n",
    "    headers = ['id', 'name', 'dateOfBirth', 'Age', 'Height', 'Foot', 'Position', 'OtherPosition', 'National', 'isRetired', 'MarketValue', 'Outfitter', 'Club_name', 'ContractExpiry', 'ContractOption', '20YC', '202YC', '20RC', '20G', '20A', '20MP', '20AP', '21YC', '212YC', '21RC', '21G', '21A', '21MP', '21AP', '22YC', '222YC', '22RC', '22G', '22A', '22MP', '22AP', '23YC', '232YC', '23RC', '23G', '23A', '23MP', '23AP', '24YC', '242YC', '24RC', '24G', '24A', '24MP', '24AP', '25YC', '252YC', '25RC', '25G', '25A', '25MP', '25AP', 'Ranking', '2020AvgMV', '2021AvgMV', '2022AvgMV', '2023AvgMV', '2024AvgMV', '2025AvgMV', 'TotalCups']\n",
    "    writer.writerow(headers)\n",
    "    \n",
    "    # Use ThreadPoolExecutor to process links concurrently\n",
    "    with concurrent.futures.ThreadPoolExecutor(max_workers=5) as executor:\n",
    "        futures = {executor.submit(process_link, link): link for link in links}\n",
    "        for future in tqdm.tqdm(concurrent.futures.as_completed(futures), total=len(links), desc=\"Processing players\"):\n",
    "            row = future.result()\n",
    "            if row is not None:\n",
    "                writer.writerow(row)"
   ]
  },
  {
   "cell_type": "code",
   "execution_count": null,
   "metadata": {},
   "outputs": [],
   "source": []
  },
  {
   "cell_type": "code",
   "execution_count": null,
   "metadata": {},
   "outputs": [],
   "source": []
  }
 ],
 "metadata": {
  "kernelspec": {
   "display_name": "football_analytics",
   "language": "python",
   "name": "python3"
  },
  "language_info": {
   "codemirror_mode": {
    "name": "ipython",
    "version": 3
   },
   "file_extension": ".py",
   "mimetype": "text/x-python",
   "name": "python",
   "nbconvert_exporter": "python",
   "pygments_lexer": "ipython3",
   "version": "3.11.5"
  }
 },
 "nbformat": 4,
 "nbformat_minor": 2
}
