{
 "cells": [
  {
   "cell_type": "code",
   "execution_count": 1,
   "metadata": {},
   "outputs": [],
   "source": [
    "from app.services.players.achievements import TransfermarktPlayerAchievements\n",
    "from app.services.players.market_value import TransfermarktPlayerMarketValue\n",
    "from app.services.players.injuries import TransfermarktPlayerInjuries\n",
    "from app.services.players.profile import TransfermarktPlayerProfile\n",
    "from app.services.players.stats import TransfermarktPlayerStats"
   ]
  },
  {
   "cell_type": "markdown",
   "metadata": {},
   "source": [
    "Profile"
   ]
  },
  {
   "cell_type": "code",
   "execution_count": 2,
   "metadata": {},
   "outputs": [],
   "source": [
    "player = {}\n",
    "player['id'] = '105997'"
   ]
  },
  {
   "cell_type": "code",
   "execution_count": 3,
   "metadata": {},
   "outputs": [],
   "source": [
    "tfmk = TransfermarktPlayerProfile(player_id=player['id'])\n",
    "result = tfmk.get_player_profile()\n",
    "\n",
    "player['name'] = result['name']\n",
    "player['dateOfBirth'] = result['dateOfBirth']\n",
    "player['Age'] = result['age']\n",
    "player['Height'] = result['height']\n",
    "player['Foot'] = result['foot']\n",
    "player['Position'] = result['position']['main']\n",
    "player['OtherPosition'] = result['position']['other']\n",
    "player['National'] = result['placeOfBirth']['country']\n",
    "player['isRetired'] = result['isRetired']\n",
    "player['MarketValue'] = result['marketValue']\n",
    "player['Outfitter'] = result['outfitter']\n",
    "player['Club_name'] = result['club']['name']\n",
    "player['ContractExpiry'] = result['club']['contractExpires']\n",
    "player['ContractOption'] = result['club']['contractOption']"
   ]
  },
  {
   "cell_type": "markdown",
   "metadata": {},
   "source": [
    "Stats"
   ]
  },
  {
   "cell_type": "code",
   "execution_count": 4,
   "metadata": {},
   "outputs": [],
   "source": [
    "\n",
    "tfmkt = TransfermarktPlayerStats(player_id=player['id'])\n",
    "result = tfmkt.get_player_stats()\n",
    "\n",
    "for i in range(19, 25):\n",
    "    player[f'{i+1}YC'] = 0\n",
    "    player[f'{i+1}2YC'] = 0\n",
    "    player[f'{i+1}RC'] = 0\n",
    "    player[f'{i+1}G'] = 0\n",
    "    player[f'{i+1}A'] = 0\n",
    "    player[f'{i+1}MP'] = 0\n",
    "    player[f'{i+1}AP'] = 0\n",
    "\n",
    "for stat in result['stats']:\n",
    "    season_id = stat['seasonId']\n",
    "    season_key = season_id[2:]\n",
    "    \n",
    "    if season_key.startswith('2'):\n",
    "        \n",
    "        player[f'{season_key}YC'] += int(stat['yellowCards'] if stat['yellowCards'] != '-' else 0)\n",
    "        player[f'{season_key}2YC'] += int(stat['secondYellowCards'] if stat['secondYellowCards'] != '-' else 0)\n",
    "        player[f'{season_key}RC'] += int(stat['redCards'] if stat['redCards'] != '-' else 0)\n",
    "        player[f'{season_key}G'] += int(stat['goals'] if stat['goals'] != '-' else 0)\n",
    "        player[f'{season_key}A'] += int(stat['assists'] if stat['assists'] != '-' else 0)\n",
    "        player[f'{season_key}MP'] += float(stat['minutesPlayed'].replace(\"'\", \"\") if stat['minutesPlayed'] != '-' else 0)\n",
    "        player[f'{season_key}AP'] += int(stat['appearances'] if stat['appearances'] != '-' else 0)"
   ]
  },
  {
   "cell_type": "markdown",
   "metadata": {},
   "source": [
    "Market Value"
   ]
  },
  {
   "cell_type": "code",
   "execution_count": 5,
   "metadata": {},
   "outputs": [],
   "source": [
    "\n",
    "tfmkt = TransfermarktPlayerMarketValue(player_id=player['id'])\n",
    "result = tfmkt.get_player_market_value()\n",
    "try:\n",
    "    player['Ranking'] = result['ranking']['Worldwide']\n",
    "    \n",
    "except:\n",
    "    player['Ranking'] = '0'\n",
    "\n",
    "for i in range(2020, 2026):\n",
    "    # Initialize the market value list for each year\n",
    "    player[f'{i}MV'] = []\n",
    "\n",
    "# Populate the player dictionary with market values by year\n",
    "for entry in result['marketValueHistory']:\n",
    "    # Extract the year from the date string\n",
    "    year = int(entry['date'].split()[-1])  # Extract year from the date\n",
    "    # Add market value to the corresponding year in the player dictionary\n",
    "    if 2020 <= year <= 2025:\n",
    "        if entry['marketValue'] == '-':\n",
    "            player[f'{year}MV'].append(0)\n",
    "        else:\n",
    "            if 'm' in entry['marketValue']:\n",
    "            # Convert millions (e.g., '1.5m' -> 1.5)\n",
    "                value = float(entry['marketValue'].replace('€', '').replace('m', '')) * 1e6\n",
    "            elif 'k' in entry['marketValue']:\n",
    "                # Convert thousands (e.g., '400k' -> 400000)\n",
    "                value = float(entry['marketValue'].replace('€', '').replace('k', '')) * 1e3\n",
    "            else:\n",
    "                # Handle cases with no suffix (e.g., '400' -> 400)\n",
    "                value = float(entry['marketValue'].replace('€', ''))\n",
    "            player[f'{year}MV'].append(value)\n",
    "\n",
    "# Compute the average market value for each year\n",
    "for year in range(2020, 2026):\n",
    "    if player[f'{year}MV']:  # Check if there are any market values for that year\n",
    "        player[f'{year}AvgMV'] = sum(player[f'{year}MV']) / len(player[f'{year}MV'])\n",
    "    else:\n",
    "        player[f'{year}AvgMV'] = 0  # If no values, assign 0\n",
    "    #Remove the list of market values for each year\n",
    "    player.pop(f'{year}MV')"
   ]
  },
  {
   "cell_type": "markdown",
   "metadata": {},
   "source": [
    "Achievements"
   ]
  },
  {
   "cell_type": "code",
   "execution_count": 6,
   "metadata": {},
   "outputs": [],
   "source": [
    "tfmkt = TransfermarktPlayerAchievements(player_id=player['id'])\n",
    "result = tfmkt.get_player_achievements()\n",
    "\n",
    "player['TotalCups'] = sum(achievement['count'] for achievement in result['achievements'])"
   ]
  },
  {
   "cell_type": "markdown",
   "metadata": {},
   "source": [
    "Injuries"
   ]
  },
  {
   "cell_type": "code",
   "execution_count": 7,
   "metadata": {},
   "outputs": [],
   "source": [
    "# tfmkt = TransfermarktPlayerInjuries(player_id=player['id'], page_number=1)\n",
    "# result = tfmkt.get_player_injuries()\n",
    "\n",
    "# player[\"Injuries\"] = result['injuries']"
   ]
  },
  {
   "cell_type": "code",
   "execution_count": 9,
   "metadata": {},
   "outputs": [
    {
     "data": {
      "text/plain": [
       "dict_keys(['id', 'name', 'dateOfBirth', 'Age', 'Height', 'Foot', 'Position', 'OtherPosition', 'National', 'isRetired', 'MarketValue', 'Outfitter', 'Club_name', 'ContractExpiry', 'ContractOption', '20YC', '202YC', '20RC', '20G', '20A', '20MP', '20AP', '21YC', '212YC', '21RC', '21G', '21A', '21MP', '21AP', '22YC', '222YC', '22RC', '22G', '22A', '22MP', '22AP', '23YC', '232YC', '23RC', '23G', '23A', '23MP', '23AP', '24YC', '242YC', '24RC', '24G', '24A', '24MP', '24AP', '25YC', '252YC', '25RC', '25G', '25A', '25MP', '25AP', 'Ranking', '2020AvgMV', '2021AvgMV', '2022AvgMV', '2023AvgMV', '2024AvgMV', '2025AvgMV', 'TotalCups'])"
      ]
     },
     "execution_count": 9,
     "metadata": {},
     "output_type": "execute_result"
    }
   ],
   "source": [
    "player.keys()"
   ]
  },
  {
   "cell_type": "code",
   "execution_count": null,
   "metadata": {},
   "outputs": [],
   "source": []
  }
 ],
 "metadata": {
  "kernelspec": {
   "display_name": "ml_proj",
   "language": "python",
   "name": "python3"
  },
  "language_info": {
   "codemirror_mode": {
    "name": "ipython",
    "version": 3
   },
   "file_extension": ".py",
   "mimetype": "text/x-python",
   "name": "python",
   "nbconvert_exporter": "python",
   "pygments_lexer": "ipython3",
   "version": "3.11.5"
  }
 },
 "nbformat": 4,
 "nbformat_minor": 2
}
