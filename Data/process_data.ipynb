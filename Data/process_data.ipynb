{
 "cells": [
  {
   "cell_type": "code",
   "execution_count": 1,
   "metadata": {},
   "outputs": [],
   "source": [
    "import pandas as pd\n",
    "import numpy as np\n",
    "import os\n",
    "import ftfy"
   ]
  },
  {
   "cell_type": "code",
   "execution_count": null,
   "metadata": {},
   "outputs": [
    {
     "data": {
      "text/html": [
       "<div>\n",
       "<style scoped>\n",
       "    .dataframe tbody tr th:only-of-type {\n",
       "        vertical-align: middle;\n",
       "    }\n",
       "\n",
       "    .dataframe tbody tr th {\n",
       "        vertical-align: top;\n",
       "    }\n",
       "\n",
       "    .dataframe thead th {\n",
       "        text-align: right;\n",
       "    }\n",
       "</style>\n",
       "<table border=\"1\" class=\"dataframe\">\n",
       "  <thead>\n",
       "    <tr style=\"text-align: right;\">\n",
       "      <th></th>\n",
       "      <th>id</th>\n",
       "      <th>name</th>\n",
       "      <th>dateOfBirth</th>\n",
       "      <th>Age</th>\n",
       "      <th>Height</th>\n",
       "      <th>Foot</th>\n",
       "      <th>Position</th>\n",
       "      <th>OtherPosition</th>\n",
       "      <th>National</th>\n",
       "      <th>MarketValue</th>\n",
       "      <th>...</th>\n",
       "      <th>25MP</th>\n",
       "      <th>25AP</th>\n",
       "      <th>Ranking</th>\n",
       "      <th>2020AvgMV</th>\n",
       "      <th>2021AvgMV</th>\n",
       "      <th>2022AvgMV</th>\n",
       "      <th>2023AvgMV</th>\n",
       "      <th>2024AvgMV</th>\n",
       "      <th>2025AvgMV</th>\n",
       "      <th>TotalCups</th>\n",
       "    </tr>\n",
       "  </thead>\n",
       "  <tbody>\n",
       "    <tr>\n",
       "      <th>0</th>\n",
       "      <td>591949</td>\n",
       "      <td>Aaron Hickey</td>\n",
       "      <td>Jun 10, 2002</td>\n",
       "      <td>22.0</td>\n",
       "      <td>1,85m</td>\n",
       "      <td>both</td>\n",
       "      <td>Right-Back</td>\n",
       "      <td>['Left-Back', 'Left Midfield']</td>\n",
       "      <td>Scotland</td>\n",
       "      <td>22000000.0</td>\n",
       "      <td>...</td>\n",
       "      <td>0.0</td>\n",
       "      <td>0</td>\n",
       "      <td>432.000</td>\n",
       "      <td>1.845000e+06</td>\n",
       "      <td>8.666667e+06</td>\n",
       "      <td>17000000.0</td>\n",
       "      <td>2.833333e+07</td>\n",
       "      <td>2.500000e+07</td>\n",
       "      <td>0.0</td>\n",
       "      <td>0</td>\n",
       "    </tr>\n",
       "    <tr>\n",
       "      <th>1</th>\n",
       "      <td>434207</td>\n",
       "      <td>Aaron Connolly</td>\n",
       "      <td>Jan 28, 2000</td>\n",
       "      <td>25.0</td>\n",
       "      <td>1,74m</td>\n",
       "      <td>right</td>\n",
       "      <td>Centre-Forward</td>\n",
       "      <td>['Second Striker']</td>\n",
       "      <td>Ireland</td>\n",
       "      <td>2500000.0</td>\n",
       "      <td>...</td>\n",
       "      <td>505.0</td>\n",
       "      <td>14</td>\n",
       "      <td>3.644</td>\n",
       "      <td>5.500000e+06</td>\n",
       "      <td>7.000000e+06</td>\n",
       "      <td>5500000.0</td>\n",
       "      <td>3.500000e+06</td>\n",
       "      <td>2.500000e+06</td>\n",
       "      <td>0.0</td>\n",
       "      <td>2</td>\n",
       "    </tr>\n",
       "    <tr>\n",
       "      <th>2</th>\n",
       "      <td>578459</td>\n",
       "      <td>Aaron Bastiaans</td>\n",
       "      <td>Apr 4, 2002</td>\n",
       "      <td>22.0</td>\n",
       "      <td>1,84m</td>\n",
       "      <td>right</td>\n",
       "      <td>Left Winger</td>\n",
       "      <td>['Right Winger', 'Centre-Forward']</td>\n",
       "      <td>Netherlands</td>\n",
       "      <td>0.0</td>\n",
       "      <td>...</td>\n",
       "      <td>0.0</td>\n",
       "      <td>0</td>\n",
       "      <td>0.000</td>\n",
       "      <td>1.500000e+05</td>\n",
       "      <td>1.250000e+05</td>\n",
       "      <td>175000.0</td>\n",
       "      <td>0.000000e+00</td>\n",
       "      <td>0.000000e+00</td>\n",
       "      <td>0.0</td>\n",
       "      <td>0</td>\n",
       "    </tr>\n",
       "    <tr>\n",
       "      <th>3</th>\n",
       "      <td>884244</td>\n",
       "      <td>AJ Marcucci</td>\n",
       "      <td>Jul 31, 1999</td>\n",
       "      <td>25.0</td>\n",
       "      <td>1,91m</td>\n",
       "      <td>NaN</td>\n",
       "      <td>Goalkeeper</td>\n",
       "      <td>[]</td>\n",
       "      <td>United States</td>\n",
       "      <td>250000.0</td>\n",
       "      <td>...</td>\n",
       "      <td>0.0</td>\n",
       "      <td>0</td>\n",
       "      <td>0.000</td>\n",
       "      <td>0.000000e+00</td>\n",
       "      <td>1.000000e+05</td>\n",
       "      <td>125000.0</td>\n",
       "      <td>1.500000e+05</td>\n",
       "      <td>2.166667e+05</td>\n",
       "      <td>0.0</td>\n",
       "      <td>0</td>\n",
       "    </tr>\n",
       "    <tr>\n",
       "      <th>4</th>\n",
       "      <td>401362</td>\n",
       "      <td>AarÃ³n Herrera</td>\n",
       "      <td>Jun 6, 1997</td>\n",
       "      <td>27.0</td>\n",
       "      <td>1,80m</td>\n",
       "      <td>right</td>\n",
       "      <td>Right-Back</td>\n",
       "      <td>['Left-Back', 'Right Midfield']</td>\n",
       "      <td>United States</td>\n",
       "      <td>2000000.0</td>\n",
       "      <td>...</td>\n",
       "      <td>0.0</td>\n",
       "      <td>0</td>\n",
       "      <td>4.274</td>\n",
       "      <td>9.666667e+05</td>\n",
       "      <td>1.600000e+06</td>\n",
       "      <td>2000000.0</td>\n",
       "      <td>2.000000e+06</td>\n",
       "      <td>2.000000e+06</td>\n",
       "      <td>0.0</td>\n",
       "      <td>1</td>\n",
       "    </tr>\n",
       "  </tbody>\n",
       "</table>\n",
       "<p>5 rows × 64 columns</p>\n",
       "</div>"
      ],
      "text/plain": [
       "       id             name   dateOfBirth   Age Height   Foot        Position  \\\n",
       "0  591949     Aaron Hickey  Jun 10, 2002  22.0  1,85m   both      Right-Back   \n",
       "1  434207   Aaron Connolly  Jan 28, 2000  25.0  1,74m  right  Centre-Forward   \n",
       "2  578459  Aaron Bastiaans   Apr 4, 2002  22.0  1,84m  right     Left Winger   \n",
       "3  884244      AJ Marcucci  Jul 31, 1999  25.0  1,91m    NaN      Goalkeeper   \n",
       "4  401362   AarÃ³n Herrera   Jun 6, 1997  27.0  1,80m  right      Right-Back   \n",
       "\n",
       "                        OtherPosition       National  MarketValue  ...   25MP  \\\n",
       "0      ['Left-Back', 'Left Midfield']       Scotland   22000000.0  ...    0.0   \n",
       "1                  ['Second Striker']        Ireland    2500000.0  ...  505.0   \n",
       "2  ['Right Winger', 'Centre-Forward']    Netherlands          0.0  ...    0.0   \n",
       "3                                  []  United States     250000.0  ...    0.0   \n",
       "4     ['Left-Back', 'Right Midfield']  United States    2000000.0  ...    0.0   \n",
       "\n",
       "  25AP  Ranking     2020AvgMV     2021AvgMV   2022AvgMV     2023AvgMV  \\\n",
       "0    0  432.000  1.845000e+06  8.666667e+06  17000000.0  2.833333e+07   \n",
       "1   14    3.644  5.500000e+06  7.000000e+06   5500000.0  3.500000e+06   \n",
       "2    0    0.000  1.500000e+05  1.250000e+05    175000.0  0.000000e+00   \n",
       "3    0    0.000  0.000000e+00  1.000000e+05    125000.0  1.500000e+05   \n",
       "4    0    4.274  9.666667e+05  1.600000e+06   2000000.0  2.000000e+06   \n",
       "\n",
       "      2024AvgMV  2025AvgMV  TotalCups  \n",
       "0  2.500000e+07        0.0          0  \n",
       "1  2.500000e+06        0.0          2  \n",
       "2  0.000000e+00        0.0          0  \n",
       "3  2.166667e+05        0.0          0  \n",
       "4  2.000000e+06        0.0          1  \n",
       "\n",
       "[5 rows x 64 columns]"
      ]
     },
     "execution_count": 2,
     "metadata": {},
     "output_type": "execute_result"
    }
   ],
   "source": [
    "df = pd.read_csv('player_stats.csv')\n",
    "df.head()"
   ]
  },
  {
   "cell_type": "markdown",
   "metadata": {},
   "source": [
    "#### Handling missing values"
   ]
  },
  {
   "cell_type": "code",
   "execution_count": 3,
   "metadata": {},
   "outputs": [
    {
     "data": {
      "text/plain": [
       "dateOfBirth          16\n",
       "Age                  16\n",
       "Height              196\n",
       "Foot                691\n",
       "Position             61\n",
       "National            239\n",
       "Outfitter         10330\n",
       "Club_name            16\n",
       "ContractExpiry       16\n",
       "ContractOption    12061\n",
       "dtype: int64"
      ]
     },
     "execution_count": 3,
     "metadata": {},
     "output_type": "execute_result"
    }
   ],
   "source": [
    "#Check for misssing values in columns and store in df\n",
    "missing = df.isnull().sum()\n",
    "missing[missing > 0]"
   ]
  },
  {
   "cell_type": "code",
   "execution_count": 4,
   "metadata": {},
   "outputs": [
    {
     "data": {
      "text/plain": [
       "Outfitter          9894\n",
       "ContractOption    11630\n",
       "dtype: int64"
      ]
     },
     "execution_count": 4,
     "metadata": {},
     "output_type": "execute_result"
    }
   ],
   "source": [
    "#Drop null columns\n",
    "df.dropna(subset=['Height'], inplace=True)\n",
    "df.dropna(subset=['Age'], inplace=True)\n",
    "df.dropna(subset=['Club_name'], inplace=True)\n",
    "df.dropna(subset=['Position'], inplace=True)\n",
    "df.dropna(subset=['National'], inplace=True)\n",
    "\n",
    "\n",
    "#Set foot as 'hand' for goalkeepers\n",
    "df.loc[df['Position'] == 'Goalkeeper', 'Foot'] = 'hand'\n",
    "\n",
    "#Find average values for foot using player position\n",
    "foot_dict = df.groupby('Position')['Foot'].agg(lambda x: x.value_counts().index[0]).to_dict()\n",
    "#Use the dictionary to fill in missing values\n",
    "df['Foot'] = df.apply(lambda row: foot_dict[row['Position']] if pd.isnull(row['Foot']) else row['Foot'], axis=1)\n",
    "\n",
    "#Fill in missing values for other columns\n",
    "df.fillna({\"Outfitter\": \"Unknown\", \"ContractOption\": \"None\"}, inplace=True)\n",
    "\n",
    "\n",
    "missing = df.isnull().sum()\n",
    "missing[missing > 0]"
   ]
  },
  {
   "cell_type": "markdown",
   "metadata": {},
   "source": [
    "#### Transforming data"
   ]
  },
  {
   "cell_type": "code",
   "execution_count": 5,
   "metadata": {},
   "outputs": [],
   "source": [
    "#Fix player names\n",
    "df['name'] = df['name'].apply(lambda x: ftfy.fix_text(x))\n",
    "#Fix club names\n",
    "df['Club_name'] = df['Club_name'].apply(lambda x: ftfy.fix_text(x))\n",
    "\n",
    "#Convert age to int\n",
    "df['Age'] = df['Age'].astype(int)\n",
    "\n",
    "#Convert height to float\n",
    "df['Height'] = df['Height'].str.replace(',', '.').str.replace('m', '').astype(float)"
   ]
  },
  {
   "cell_type": "markdown",
   "metadata": {},
   "source": [
    "#### Save cleaned data"
   ]
  },
  {
   "cell_type": "code",
   "execution_count": null,
   "metadata": {},
   "outputs": [],
   "source": [
    "df.to_csv('cleaned_player_stats.csv', index=False)"
   ]
  },
  {
   "cell_type": "markdown",
   "metadata": {},
   "source": [
    "### Create Classification Data"
   ]
  },
  {
   "cell_type": "code",
   "execution_count": null,
   "metadata": {},
   "outputs": [],
   "source": [
    "def categorize_value(value):\n",
    "    if value < 5000000:\n",
    "        return 0  # Not valuable\n",
    "    elif value <= 20000000:\n",
    "        return 1  # Valuable\n",
    "    else:\n",
    "        return 2  # Highly valuable\n",
    "    \n",
    "    \n",
    "data = pd.read_csv('Data/player_stats_cleaned.csv')\n",
    "data.drop(columns=['id'], inplace=True)\n",
    "#Filter with market value above 10000000\n",
    "# data = data[data['MarketValue'] > 5000000]\n",
    "data['ValueCategory'] = data['MarketValue'].apply(categorize_value)\n",
    "data['Outfitter'] = data['Outfitter'].fillna('None')\n",
    "data['ContractOption'] = data['ContractOption'].fillna('None')\n",
    "data.to_csv('Data/Classification_data.csv', index=False)\n"
   ]
  }
 ],
 "metadata": {
  "kernelspec": {
   "display_name": "football_analytics",
   "language": "python",
   "name": "python3"
  },
  "language_info": {
   "codemirror_mode": {
    "name": "ipython",
    "version": 3
   },
   "file_extension": ".py",
   "mimetype": "text/x-python",
   "name": "python",
   "nbconvert_exporter": "python",
   "pygments_lexer": "ipython3",
   "version": "3.11.5"
  }
 },
 "nbformat": 4,
 "nbformat_minor": 2
}
