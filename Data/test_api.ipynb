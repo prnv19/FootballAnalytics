{
 "cells": [
  {
   "cell_type": "code",
   "execution_count": 1,
   "metadata": {},
   "outputs": [],
   "source": [
    "from app.services.players.achievements import TransfermarktPlayerAchievements\n",
    "from app.services.players.market_value import TransfermarktPlayerMarketValue\n",
    "from app.services.players.injuries import TransfermarktPlayerInjuries\n",
    "from app.services.players.profile import TransfermarktPlayerProfile\n",
    "from app.services.players.stats import TransfermarktPlayerStats"
   ]
  },
  {
   "cell_type": "markdown",
   "metadata": {},
   "source": [
    "Profile"
   ]
  },
  {
   "cell_type": "code",
   "execution_count": 2,
   "metadata": {},
   "outputs": [],
   "source": [
    "player = {}\n",
    "player['id'] = '105997'"
   ]
  },
  {
   "cell_type": "code",
   "execution_count": 3,
   "metadata": {},
   "outputs": [],
   "source": [
    "tfmk = TransfermarktPlayerProfile(player_id=player['id'])\n",
    "result = tfmk.get_player_profile()\n",
    "\n",
    "player['name'] = result['name']\n",
    "player['dateOfBirth'] = result['dateOfBirth']\n",
    "player['Age'] = result['age']\n",
    "player['Height'] = result['height']\n",
    "player['Foot'] = result['foot']\n",
    "player['Position'] = result['position']['main']\n",
    "player['OtherPosition'] = result['position']['other']\n",
    "player['National'] = result['placeOfBirth']['country']\n",
    "player['isRetired'] = result['isRetired']\n",
    "player['MarketValue'] = result['marketValue']\n",
    "player['Outfitter'] = result['outfitter']\n",
    "player['Club_name'] = result['club']['name']\n",
    "player['ContractExpiry'] = result['club']['contractExpires']\n",
    "player['ContractOption'] = result['club']['contractOption']"
   ]
  },
  {
   "cell_type": "markdown",
   "metadata": {},
   "source": [
    "Stats"
   ]
  },
  {
   "cell_type": "code",
   "execution_count": 4,
   "metadata": {},
   "outputs": [],
   "source": [
    "\n",
    "tfmkt = TransfermarktPlayerStats(player_id=player['id'])\n",
    "result = tfmkt.get_player_stats()\n",
    "\n",
    "for i in range(19, 25):\n",
    "    player[f'{i+1}YC'] = 0\n",
    "    player[f'{i+1}2YC'] = 0\n",
    "    player[f'{i+1}RC'] = 0\n",
    "    player[f'{i+1}G'] = 0\n",
    "    player[f'{i+1}A'] = 0\n",
    "    player[f'{i+1}MP'] = 0\n",
    "    player[f'{i+1}AP'] = 0\n",
    "\n",
    "for stat in result['stats']:\n",
    "    season_id = stat['seasonId']\n",
    "    season_key = season_id[2:]\n",
    "    \n",
    "    if season_key.startswith('2'):\n",
    "        \n",
    "        player[f'{season_key}YC'] += int(stat['yellowCards'] if stat['yellowCards'] != '-' else 0)\n",
    "        player[f'{season_key}2YC'] += int(stat['secondYellowCards'] if stat['secondYellowCards'] != '-' else 0)\n",
    "        player[f'{season_key}RC'] += int(stat['redCards'] if stat['redCards'] != '-' else 0)\n",
    "        player[f'{season_key}G'] += int(stat['goals'] if stat['goals'] != '-' else 0)\n",
    "        player[f'{season_key}A'] += int(stat['assists'] if stat['assists'] != '-' else 0)\n",
    "        player[f'{season_key}MP'] += float(stat['minutesPlayed'].replace(\"'\", \"\") if stat['minutesPlayed'] != '-' else 0)\n",
    "        player[f'{season_key}AP'] += int(stat['appearances'] if stat['appearances'] != '-' else 0)"
   ]
  },
  {
   "cell_type": "markdown",
   "metadata": {},
   "source": [
    "Market Value"
   ]
  },
  {
   "cell_type": "code",
   "execution_count": 5,
   "metadata": {},
   "outputs": [],
   "source": [
    "\n",
    "tfmkt = TransfermarktPlayerMarketValue(player_id=player['id'])\n",
    "result = tfmkt.get_player_market_value()\n",
    "try:\n",
    "    player['Ranking'] = result['ranking']['Worldwide']\n",
    "    \n",
    "except:\n",
    "    player['Ranking'] = '0'\n",
    "\n",
    "for i in range(2020, 2026):\n",
    "    # Initialize the market value list for each year\n",
    "    player[f'{i}MV'] = []\n",
    "\n",
    "# Populate the player dictionary with market values by year\n",
    "for entry in result['marketValueHistory']:\n",
    "    # Extract the year from the date string\n",
    "    year = int(entry['date'].split()[-1])  # Extract year from the date\n",
    "    # Add market value to the corresponding year in the player dictionary\n",
    "    if 2020 <= year <= 2025:\n",
    "        if entry['marketValue'] == '-':\n",
    "            player[f'{year}MV'].append(0)\n",
    "        else:\n",
    "            if 'm' in entry['marketValue']:\n",
    "            # Convert millions (e.g., '1.5m' -> 1.5)\n",
    "                value = float(entry['marketValue'].replace('€', '').replace('m', '')) * 1e6\n",
    "            elif 'k' in entry['marketValue']:\n",
    "                # Convert thousands (e.g., '400k' -> 400000)\n",
    "                value = float(entry['marketValue'].replace('€', '').replace('k', '')) * 1e3\n",
    "            else:\n",
    "                # Handle cases with no suffix (e.g., '400' -> 400)\n",
    "                value = float(entry['marketValue'].replace('€', ''))\n",
    "            player[f'{year}MV'].append(value)\n",
    "\n",
    "# Compute the average market value for each year\n",
    "for year in range(2020, 2026):\n",
    "    if player[f'{year}MV']:  # Check if there are any market values for that year\n",
    "        player[f'{year}AvgMV'] = sum(player[f'{year}MV']) / len(player[f'{year}MV'])\n",
    "    else:\n",
    "        player[f'{year}AvgMV'] = 0  # If no values, assign 0\n",
    "    #Remove the list of market values for each year\n",
    "    player.pop(f'{year}MV')"
   ]
  },
  {
   "cell_type": "markdown",
   "metadata": {},
   "source": [
    "Achievements"
   ]
  },
  {
   "cell_type": "code",
   "execution_count": 6,
   "metadata": {},
   "outputs": [],
   "source": [
    "tfmkt = TransfermarktPlayerAchievements(player_id=player['id'])\n",
    "result = tfmkt.get_player_achievements()\n",
    "\n",
    "player['TotalCups'] = sum(achievement['count'] for achievement in result['achievements'])"
   ]
  },
  {
   "cell_type": "markdown",
   "metadata": {},
   "source": [
    "Injuries"
   ]
  },
  {
   "cell_type": "code",
   "execution_count": 7,
   "metadata": {},
   "outputs": [],
   "source": [
    "# tfmkt = TransfermarktPlayerInjuries(player_id=player['id'], page_number=1)\n",
    "# result = tfmkt.get_player_injuries()\n",
    "\n",
    "# player[\"Injuries\"] = result['injuries']"
   ]
  },
  {
   "cell_type": "code",
   "execution_count": 8,
   "metadata": {},
   "outputs": [
    {
     "data": {
      "text/plain": [
       "{'id': '105997',\n",
       " 'name': 'A. J. DeLaGarza',\n",
       " 'dateOfBirth': 'Nov 4, 1987',\n",
       " 'Age': '37',\n",
       " 'Height': '1,75m',\n",
       " 'Foot': 'right',\n",
       " 'Position': 'Right-Back',\n",
       " 'OtherPosition': ['Centre-Back', 'Left-Back'],\n",
       " 'National': 'United States',\n",
       " 'isRetired': True,\n",
       " 'MarketValue': None,\n",
       " 'Outfitter': None,\n",
       " 'Club_name': 'Retired',\n",
       " 'ContractExpiry': '-',\n",
       " 'ContractOption': None,\n",
       " '20YC': 0,\n",
       " '202YC': 0,\n",
       " '20RC': 0,\n",
       " '20G': 0,\n",
       " '20A': 0,\n",
       " '20MP': 517.0,\n",
       " '20AP': 6,\n",
       " '21YC': 1,\n",
       " '212YC': 0,\n",
       " '21RC': 0,\n",
       " '21G': 0,\n",
       " '21A': 0,\n",
       " '21MP': 503.0,\n",
       " '21AP': 10,\n",
       " '22YC': 0,\n",
       " '222YC': 0,\n",
       " '22RC': 0,\n",
       " '22G': 0,\n",
       " '22A': 0,\n",
       " '22MP': 411.0,\n",
       " '22AP': 5,\n",
       " '23YC': 0,\n",
       " '232YC': 0,\n",
       " '23RC': 0,\n",
       " '23G': 0,\n",
       " '23A': 0,\n",
       " '23MP': 0,\n",
       " '23AP': 0,\n",
       " '24YC': 0,\n",
       " '242YC': 0,\n",
       " '24RC': 0,\n",
       " '24G': 0,\n",
       " '24A': 0,\n",
       " '24MP': 90.0,\n",
       " '24AP': 1,\n",
       " '25YC': 0,\n",
       " '252YC': 0,\n",
       " '25RC': 0,\n",
       " '25G': 0,\n",
       " '25A': 0,\n",
       " '25MP': 0,\n",
       " '25AP': 0,\n",
       " 'Ranking': '0',\n",
       " '2020AvgMV': 350000.0,\n",
       " '2021AvgMV': 200000.0,\n",
       " '2022AvgMV': 116666.66666666667,\n",
       " '2023AvgMV': 0,\n",
       " '2024AvgMV': 0,\n",
       " '2025AvgMV': 0,\n",
       " 'TotalCups': 7}"
      ]
     },
     "execution_count": 8,
     "metadata": {},
     "output_type": "execute_result"
    }
   ],
   "source": [
    "player"
   ]
  }
 ],
 "metadata": {
  "kernelspec": {
   "display_name": "football_analytics",
   "language": "python",
   "name": "python3"
  },
  "language_info": {
   "codemirror_mode": {
    "name": "ipython",
    "version": 3
   },
   "file_extension": ".py",
   "mimetype": "text/x-python",
   "name": "python",
   "nbconvert_exporter": "python",
   "pygments_lexer": "ipython3",
   "version": "3.11.5"
  }
 },
 "nbformat": 4,
 "nbformat_minor": 2
}
